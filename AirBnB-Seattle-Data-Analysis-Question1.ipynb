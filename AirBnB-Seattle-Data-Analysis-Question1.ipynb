{
 "cells": [
  {
   "cell_type": "markdown",
   "id": "2d3aa613",
   "metadata": {},
   "source": [
    "# AirBnB Seattle Data Analysis\n",
    "For the Udacity Data Scientist Blog Post an analysis of dataset has to be done.\n",
    "This notebook is used to analyze the data from AirBnB Seattle provided in Kaggle:\n",
    "\n",
    "* https://www.kaggle.com/datasets/airbnb/seattle\n"
   ]
  },
  {
   "cell_type": "code",
   "execution_count": 1,
   "id": "da6fc859",
   "metadata": {},
   "outputs": [],
   "source": [
    "%load_ext pycodestyle_magic"
   ]
  },
  {
   "cell_type": "code",
   "execution_count": 2,
   "id": "a52a1f17",
   "metadata": {},
   "outputs": [],
   "source": [
    "#%%pycodestyle   \n",
    "# pycodestyle detects always an W391 \"blank line at end of file\",\n",
    "# even if there is exactly one line at the end of the cell.\n",
    "# therefore it is commented out and only uncommented temporarily,\n",
    "# for checking the cell.\n",
    "import numpy as np\n",
    "import pandas as pd\n",
    "import matplotlib.pyplot as plt\n",
    "from sklearn.linear_model import LinearRegression\n",
    "from sklearn.model_selection import train_test_split\n",
    "from sklearn.metrics import r2_score, mean_squared_error\n",
    "import seaborn as sns\n",
    "%matplotlib inline\n"
   ]
  },
  {
   "cell_type": "code",
   "execution_count": 3,
   "id": "aacebb45",
   "metadata": {},
   "outputs": [
    {
     "data": {
      "text/html": [
       "<div>\n",
       "<style scoped>\n",
       "    .dataframe tbody tr th:only-of-type {\n",
       "        vertical-align: middle;\n",
       "    }\n",
       "\n",
       "    .dataframe tbody tr th {\n",
       "        vertical-align: top;\n",
       "    }\n",
       "\n",
       "    .dataframe thead th {\n",
       "        text-align: right;\n",
       "    }\n",
       "</style>\n",
       "<table border=\"1\" class=\"dataframe\">\n",
       "  <thead>\n",
       "    <tr style=\"text-align: right;\">\n",
       "      <th></th>\n",
       "      <th>listing_id</th>\n",
       "      <th>date</th>\n",
       "      <th>available</th>\n",
       "      <th>price</th>\n",
       "    </tr>\n",
       "  </thead>\n",
       "  <tbody>\n",
       "    <tr>\n",
       "      <th>0</th>\n",
       "      <td>241032</td>\n",
       "      <td>2016-01-04</td>\n",
       "      <td>t</td>\n",
       "      <td>$85.00</td>\n",
       "    </tr>\n",
       "    <tr>\n",
       "      <th>1</th>\n",
       "      <td>241032</td>\n",
       "      <td>2016-01-05</td>\n",
       "      <td>t</td>\n",
       "      <td>$85.00</td>\n",
       "    </tr>\n",
       "    <tr>\n",
       "      <th>2</th>\n",
       "      <td>241032</td>\n",
       "      <td>2016-01-06</td>\n",
       "      <td>f</td>\n",
       "      <td>NaN</td>\n",
       "    </tr>\n",
       "    <tr>\n",
       "      <th>3</th>\n",
       "      <td>241032</td>\n",
       "      <td>2016-01-07</td>\n",
       "      <td>f</td>\n",
       "      <td>NaN</td>\n",
       "    </tr>\n",
       "    <tr>\n",
       "      <th>4</th>\n",
       "      <td>241032</td>\n",
       "      <td>2016-01-08</td>\n",
       "      <td>f</td>\n",
       "      <td>NaN</td>\n",
       "    </tr>\n",
       "  </tbody>\n",
       "</table>\n",
       "</div>"
      ],
      "text/plain": [
       "   listing_id        date available   price\n",
       "0      241032  2016-01-04         t  $85.00\n",
       "1      241032  2016-01-05         t  $85.00\n",
       "2      241032  2016-01-06         f     NaN\n",
       "3      241032  2016-01-07         f     NaN\n",
       "4      241032  2016-01-08         f     NaN"
      ]
     },
     "execution_count": 3,
     "metadata": {},
     "output_type": "execute_result"
    }
   ],
   "source": [
    "df_cal = pd.read_csv('./data/calendar.csv')\n",
    "df_cal.head()\n"
   ]
  },
  {
   "cell_type": "code",
   "execution_count": 4,
   "id": "9f6214af",
   "metadata": {},
   "outputs": [
    {
     "data": {
      "text/html": [
       "<div>\n",
       "<style scoped>\n",
       "    .dataframe tbody tr th:only-of-type {\n",
       "        vertical-align: middle;\n",
       "    }\n",
       "\n",
       "    .dataframe tbody tr th {\n",
       "        vertical-align: top;\n",
       "    }\n",
       "\n",
       "    .dataframe thead th {\n",
       "        text-align: right;\n",
       "    }\n",
       "</style>\n",
       "<table border=\"1\" class=\"dataframe\">\n",
       "  <thead>\n",
       "    <tr style=\"text-align: right;\">\n",
       "      <th></th>\n",
       "      <th>id</th>\n",
       "      <th>listing_url</th>\n",
       "      <th>scrape_id</th>\n",
       "      <th>last_scraped</th>\n",
       "      <th>name</th>\n",
       "      <th>summary</th>\n",
       "      <th>space</th>\n",
       "      <th>description</th>\n",
       "      <th>experiences_offered</th>\n",
       "      <th>neighborhood_overview</th>\n",
       "      <th>...</th>\n",
       "      <th>review_scores_value</th>\n",
       "      <th>requires_license</th>\n",
       "      <th>license</th>\n",
       "      <th>jurisdiction_names</th>\n",
       "      <th>instant_bookable</th>\n",
       "      <th>cancellation_policy</th>\n",
       "      <th>require_guest_profile_picture</th>\n",
       "      <th>require_guest_phone_verification</th>\n",
       "      <th>calculated_host_listings_count</th>\n",
       "      <th>reviews_per_month</th>\n",
       "    </tr>\n",
       "  </thead>\n",
       "  <tbody>\n",
       "    <tr>\n",
       "      <th>0</th>\n",
       "      <td>241032</td>\n",
       "      <td>https://www.airbnb.com/rooms/241032</td>\n",
       "      <td>20160104002432</td>\n",
       "      <td>2016-01-04</td>\n",
       "      <td>Stylish Queen Anne Apartment</td>\n",
       "      <td>NaN</td>\n",
       "      <td>Make your self at home in this charming one-be...</td>\n",
       "      <td>Make your self at home in this charming one-be...</td>\n",
       "      <td>none</td>\n",
       "      <td>NaN</td>\n",
       "      <td>...</td>\n",
       "      <td>10.0</td>\n",
       "      <td>f</td>\n",
       "      <td>NaN</td>\n",
       "      <td>WASHINGTON</td>\n",
       "      <td>f</td>\n",
       "      <td>moderate</td>\n",
       "      <td>f</td>\n",
       "      <td>f</td>\n",
       "      <td>2</td>\n",
       "      <td>4.07</td>\n",
       "    </tr>\n",
       "    <tr>\n",
       "      <th>1</th>\n",
       "      <td>953595</td>\n",
       "      <td>https://www.airbnb.com/rooms/953595</td>\n",
       "      <td>20160104002432</td>\n",
       "      <td>2016-01-04</td>\n",
       "      <td>Bright &amp; Airy Queen Anne Apartment</td>\n",
       "      <td>Chemically sensitive? We've removed the irrita...</td>\n",
       "      <td>Beautiful, hypoallergenic apartment in an extr...</td>\n",
       "      <td>Chemically sensitive? We've removed the irrita...</td>\n",
       "      <td>none</td>\n",
       "      <td>Queen Anne is a wonderful, truly functional vi...</td>\n",
       "      <td>...</td>\n",
       "      <td>10.0</td>\n",
       "      <td>f</td>\n",
       "      <td>NaN</td>\n",
       "      <td>WASHINGTON</td>\n",
       "      <td>f</td>\n",
       "      <td>strict</td>\n",
       "      <td>t</td>\n",
       "      <td>t</td>\n",
       "      <td>6</td>\n",
       "      <td>1.48</td>\n",
       "    </tr>\n",
       "    <tr>\n",
       "      <th>2</th>\n",
       "      <td>3308979</td>\n",
       "      <td>https://www.airbnb.com/rooms/3308979</td>\n",
       "      <td>20160104002432</td>\n",
       "      <td>2016-01-04</td>\n",
       "      <td>New Modern House-Amazing water view</td>\n",
       "      <td>New modern house built in 2013.  Spectacular s...</td>\n",
       "      <td>Our house is modern, light and fresh with a wa...</td>\n",
       "      <td>New modern house built in 2013.  Spectacular s...</td>\n",
       "      <td>none</td>\n",
       "      <td>Upper Queen Anne is a charming neighborhood fu...</td>\n",
       "      <td>...</td>\n",
       "      <td>10.0</td>\n",
       "      <td>f</td>\n",
       "      <td>NaN</td>\n",
       "      <td>WASHINGTON</td>\n",
       "      <td>f</td>\n",
       "      <td>strict</td>\n",
       "      <td>f</td>\n",
       "      <td>f</td>\n",
       "      <td>2</td>\n",
       "      <td>1.15</td>\n",
       "    </tr>\n",
       "    <tr>\n",
       "      <th>3</th>\n",
       "      <td>7421966</td>\n",
       "      <td>https://www.airbnb.com/rooms/7421966</td>\n",
       "      <td>20160104002432</td>\n",
       "      <td>2016-01-04</td>\n",
       "      <td>Queen Anne Chateau</td>\n",
       "      <td>A charming apartment that sits atop Queen Anne...</td>\n",
       "      <td>NaN</td>\n",
       "      <td>A charming apartment that sits atop Queen Anne...</td>\n",
       "      <td>none</td>\n",
       "      <td>NaN</td>\n",
       "      <td>...</td>\n",
       "      <td>NaN</td>\n",
       "      <td>f</td>\n",
       "      <td>NaN</td>\n",
       "      <td>WASHINGTON</td>\n",
       "      <td>f</td>\n",
       "      <td>flexible</td>\n",
       "      <td>f</td>\n",
       "      <td>f</td>\n",
       "      <td>1</td>\n",
       "      <td>NaN</td>\n",
       "    </tr>\n",
       "    <tr>\n",
       "      <th>4</th>\n",
       "      <td>278830</td>\n",
       "      <td>https://www.airbnb.com/rooms/278830</td>\n",
       "      <td>20160104002432</td>\n",
       "      <td>2016-01-04</td>\n",
       "      <td>Charming craftsman 3 bdm house</td>\n",
       "      <td>Cozy family craftman house in beautiful neighb...</td>\n",
       "      <td>Cozy family craftman house in beautiful neighb...</td>\n",
       "      <td>Cozy family craftman house in beautiful neighb...</td>\n",
       "      <td>none</td>\n",
       "      <td>We are in the beautiful neighborhood of Queen ...</td>\n",
       "      <td>...</td>\n",
       "      <td>9.0</td>\n",
       "      <td>f</td>\n",
       "      <td>NaN</td>\n",
       "      <td>WASHINGTON</td>\n",
       "      <td>f</td>\n",
       "      <td>strict</td>\n",
       "      <td>f</td>\n",
       "      <td>f</td>\n",
       "      <td>1</td>\n",
       "      <td>0.89</td>\n",
       "    </tr>\n",
       "  </tbody>\n",
       "</table>\n",
       "<p>5 rows × 92 columns</p>\n",
       "</div>"
      ],
      "text/plain": [
       "        id                           listing_url       scrape_id last_scraped  \\\n",
       "0   241032   https://www.airbnb.com/rooms/241032  20160104002432   2016-01-04   \n",
       "1   953595   https://www.airbnb.com/rooms/953595  20160104002432   2016-01-04   \n",
       "2  3308979  https://www.airbnb.com/rooms/3308979  20160104002432   2016-01-04   \n",
       "3  7421966  https://www.airbnb.com/rooms/7421966  20160104002432   2016-01-04   \n",
       "4   278830   https://www.airbnb.com/rooms/278830  20160104002432   2016-01-04   \n",
       "\n",
       "                                  name  \\\n",
       "0         Stylish Queen Anne Apartment   \n",
       "1   Bright & Airy Queen Anne Apartment   \n",
       "2  New Modern House-Amazing water view   \n",
       "3                   Queen Anne Chateau   \n",
       "4       Charming craftsman 3 bdm house   \n",
       "\n",
       "                                             summary  \\\n",
       "0                                                NaN   \n",
       "1  Chemically sensitive? We've removed the irrita...   \n",
       "2  New modern house built in 2013.  Spectacular s...   \n",
       "3  A charming apartment that sits atop Queen Anne...   \n",
       "4  Cozy family craftman house in beautiful neighb...   \n",
       "\n",
       "                                               space  \\\n",
       "0  Make your self at home in this charming one-be...   \n",
       "1  Beautiful, hypoallergenic apartment in an extr...   \n",
       "2  Our house is modern, light and fresh with a wa...   \n",
       "3                                                NaN   \n",
       "4  Cozy family craftman house in beautiful neighb...   \n",
       "\n",
       "                                         description experiences_offered  \\\n",
       "0  Make your self at home in this charming one-be...                none   \n",
       "1  Chemically sensitive? We've removed the irrita...                none   \n",
       "2  New modern house built in 2013.  Spectacular s...                none   \n",
       "3  A charming apartment that sits atop Queen Anne...                none   \n",
       "4  Cozy family craftman house in beautiful neighb...                none   \n",
       "\n",
       "                               neighborhood_overview  ... review_scores_value  \\\n",
       "0                                                NaN  ...                10.0   \n",
       "1  Queen Anne is a wonderful, truly functional vi...  ...                10.0   \n",
       "2  Upper Queen Anne is a charming neighborhood fu...  ...                10.0   \n",
       "3                                                NaN  ...                 NaN   \n",
       "4  We are in the beautiful neighborhood of Queen ...  ...                 9.0   \n",
       "\n",
       "  requires_license license jurisdiction_names instant_bookable  \\\n",
       "0                f     NaN         WASHINGTON                f   \n",
       "1                f     NaN         WASHINGTON                f   \n",
       "2                f     NaN         WASHINGTON                f   \n",
       "3                f     NaN         WASHINGTON                f   \n",
       "4                f     NaN         WASHINGTON                f   \n",
       "\n",
       "  cancellation_policy  require_guest_profile_picture  \\\n",
       "0            moderate                              f   \n",
       "1              strict                              t   \n",
       "2              strict                              f   \n",
       "3            flexible                              f   \n",
       "4              strict                              f   \n",
       "\n",
       "  require_guest_phone_verification calculated_host_listings_count  \\\n",
       "0                                f                              2   \n",
       "1                                t                              6   \n",
       "2                                f                              2   \n",
       "3                                f                              1   \n",
       "4                                f                              1   \n",
       "\n",
       "  reviews_per_month  \n",
       "0              4.07  \n",
       "1              1.48  \n",
       "2              1.15  \n",
       "3               NaN  \n",
       "4              0.89  \n",
       "\n",
       "[5 rows x 92 columns]"
      ]
     },
     "execution_count": 4,
     "metadata": {},
     "output_type": "execute_result"
    }
   ],
   "source": [
    "df_list = pd.read_csv('./data/listings.csv')\n",
    "df_list.head()   "
   ]
  },
  {
   "cell_type": "code",
   "execution_count": 5,
   "id": "345d8206",
   "metadata": {},
   "outputs": [
    {
     "data": {
      "text/html": [
       "<div>\n",
       "<style scoped>\n",
       "    .dataframe tbody tr th:only-of-type {\n",
       "        vertical-align: middle;\n",
       "    }\n",
       "\n",
       "    .dataframe tbody tr th {\n",
       "        vertical-align: top;\n",
       "    }\n",
       "\n",
       "    .dataframe thead th {\n",
       "        text-align: right;\n",
       "    }\n",
       "</style>\n",
       "<table border=\"1\" class=\"dataframe\">\n",
       "  <thead>\n",
       "    <tr style=\"text-align: right;\">\n",
       "      <th></th>\n",
       "      <th>listing_id</th>\n",
       "      <th>id</th>\n",
       "      <th>date</th>\n",
       "      <th>reviewer_id</th>\n",
       "      <th>reviewer_name</th>\n",
       "      <th>comments</th>\n",
       "    </tr>\n",
       "  </thead>\n",
       "  <tbody>\n",
       "    <tr>\n",
       "      <th>0</th>\n",
       "      <td>7202016</td>\n",
       "      <td>38917982</td>\n",
       "      <td>2015-07-19</td>\n",
       "      <td>28943674</td>\n",
       "      <td>Bianca</td>\n",
       "      <td>Cute and cozy place. Perfect location to every...</td>\n",
       "    </tr>\n",
       "    <tr>\n",
       "      <th>1</th>\n",
       "      <td>7202016</td>\n",
       "      <td>39087409</td>\n",
       "      <td>2015-07-20</td>\n",
       "      <td>32440555</td>\n",
       "      <td>Frank</td>\n",
       "      <td>Kelly has a great room in a very central locat...</td>\n",
       "    </tr>\n",
       "    <tr>\n",
       "      <th>2</th>\n",
       "      <td>7202016</td>\n",
       "      <td>39820030</td>\n",
       "      <td>2015-07-26</td>\n",
       "      <td>37722850</td>\n",
       "      <td>Ian</td>\n",
       "      <td>Very spacious apartment, and in a great neighb...</td>\n",
       "    </tr>\n",
       "    <tr>\n",
       "      <th>3</th>\n",
       "      <td>7202016</td>\n",
       "      <td>40813543</td>\n",
       "      <td>2015-08-02</td>\n",
       "      <td>33671805</td>\n",
       "      <td>George</td>\n",
       "      <td>Close to Seattle Center and all it has to offe...</td>\n",
       "    </tr>\n",
       "    <tr>\n",
       "      <th>4</th>\n",
       "      <td>7202016</td>\n",
       "      <td>41986501</td>\n",
       "      <td>2015-08-10</td>\n",
       "      <td>34959538</td>\n",
       "      <td>Ming</td>\n",
       "      <td>Kelly was a great host and very accommodating ...</td>\n",
       "    </tr>\n",
       "  </tbody>\n",
       "</table>\n",
       "</div>"
      ],
      "text/plain": [
       "   listing_id        id        date  reviewer_id reviewer_name  \\\n",
       "0     7202016  38917982  2015-07-19     28943674        Bianca   \n",
       "1     7202016  39087409  2015-07-20     32440555         Frank   \n",
       "2     7202016  39820030  2015-07-26     37722850           Ian   \n",
       "3     7202016  40813543  2015-08-02     33671805        George   \n",
       "4     7202016  41986501  2015-08-10     34959538          Ming   \n",
       "\n",
       "                                            comments  \n",
       "0  Cute and cozy place. Perfect location to every...  \n",
       "1  Kelly has a great room in a very central locat...  \n",
       "2  Very spacious apartment, and in a great neighb...  \n",
       "3  Close to Seattle Center and all it has to offe...  \n",
       "4  Kelly was a great host and very accommodating ...  "
      ]
     },
     "execution_count": 5,
     "metadata": {},
     "output_type": "execute_result"
    }
   ],
   "source": [
    "df_rev = pd.read_csv('./data/reviews.csv')\n",
    "df_rev.head()"
   ]
  },
  {
   "cell_type": "markdown",
   "id": "c6061185",
   "metadata": {},
   "source": [
    "# Analyze missing values\n"
   ]
  },
  {
   "cell_type": "code",
   "execution_count": 6,
   "id": "8b6eccc0",
   "metadata": {},
   "outputs": [
    {
     "name": "stdout",
     "output_type": "stream",
     "text": [
      "1393570\n"
     ]
    },
    {
     "data": {
      "text/plain": [
       "listing_id    1.00000\n",
       "date          1.00000\n",
       "available     1.00000\n",
       "price         0.67061\n",
       "dtype: float64"
      ]
     },
     "execution_count": 6,
     "metadata": {},
     "output_type": "execute_result"
    }
   ],
   "source": [
    "print(df_cal.shape[0])\n",
    "df_cal.count() / df_cal.shape[0]"
   ]
  },
  {
   "cell_type": "code",
   "execution_count": 7,
   "id": "6896c2e4",
   "metadata": {},
   "outputs": [
    {
     "name": "stdout",
     "output_type": "stream",
     "text": [
      "84849\n"
     ]
    },
    {
     "data": {
      "text/plain": [
       "listing_id       1.000000\n",
       "id               1.000000\n",
       "date             1.000000\n",
       "reviewer_id      1.000000\n",
       "reviewer_name    1.000000\n",
       "comments         0.999788\n",
       "dtype: float64"
      ]
     },
     "execution_count": 7,
     "metadata": {},
     "output_type": "execute_result"
    }
   ],
   "source": [
    "print(df_rev.shape[0])\n",
    "df_rev.count() / df_rev.shape[0]"
   ]
  },
  {
   "cell_type": "code",
   "execution_count": 8,
   "id": "2e4c26c0",
   "metadata": {},
   "outputs": [
    {
     "name": "stdout",
     "output_type": "stream",
     "text": [
      "3818\n"
     ]
    },
    {
     "data": {
      "text/plain": [
       "id                                  1.000000\n",
       "listing_url                         1.000000\n",
       "scrape_id                           1.000000\n",
       "last_scraped                        1.000000\n",
       "name                                1.000000\n",
       "                                      ...   \n",
       "cancellation_policy                 1.000000\n",
       "require_guest_profile_picture       1.000000\n",
       "require_guest_phone_verification    1.000000\n",
       "calculated_host_listings_count      1.000000\n",
       "reviews_per_month                   0.835778\n",
       "Length: 92, dtype: float64"
      ]
     },
     "execution_count": 8,
     "metadata": {},
     "output_type": "execute_result"
    }
   ],
   "source": [
    "print(df_list.shape[0])\n",
    "df_list.count() / df_list.shape[0]"
   ]
  },
  {
   "cell_type": "code",
   "execution_count": 9,
   "id": "69796ae6",
   "metadata": {},
   "outputs": [
    {
     "data": {
      "text/plain": [
       "Index(['id', 'listing_url', 'scrape_id', 'last_scraped', 'name', 'description',\n",
       "       'experiences_offered', 'picture_url', 'host_id', 'host_url',\n",
       "       'host_verifications', 'street', 'neighbourhood_cleansed',\n",
       "       'neighbourhood_group_cleansed', 'city', 'state', 'market',\n",
       "       'smart_location', 'country_code', 'country', 'latitude', 'longitude',\n",
       "       'is_location_exact', 'room_type', 'accommodates', 'bed_type',\n",
       "       'amenities', 'price', 'guests_included', 'extra_people',\n",
       "       'minimum_nights', 'maximum_nights', 'calendar_updated',\n",
       "       'has_availability', 'availability_30', 'availability_60',\n",
       "       'availability_90', 'availability_365', 'calendar_last_scraped',\n",
       "       'number_of_reviews', 'requires_license', 'jurisdiction_names',\n",
       "       'instant_bookable', 'cancellation_policy',\n",
       "       'require_guest_profile_picture', 'require_guest_phone_verification',\n",
       "       'calculated_host_listings_count'],\n",
       "      dtype='object')"
      ]
     },
     "execution_count": 9,
     "metadata": {},
     "output_type": "execute_result"
    }
   ],
   "source": [
    "df_list.columns[df_list.count() == df_list.shape[0]]"
   ]
  },
  {
   "cell_type": "code",
   "execution_count": 10,
   "id": "1017cbb7",
   "metadata": {},
   "outputs": [
    {
     "data": {
      "text/plain": [
       "summary                        0.953641\n",
       "space                          0.850969\n",
       "neighborhood_overview          0.729701\n",
       "notes                          0.579361\n",
       "transit                        0.755369\n",
       "thumbnail_url                  0.916186\n",
       "medium_url                     0.916186\n",
       "xl_picture_url                 0.916186\n",
       "host_name                      0.999476\n",
       "host_since                     0.999476\n",
       "host_location                  0.997905\n",
       "host_about                     0.775013\n",
       "host_response_time             0.863017\n",
       "host_response_rate             0.863017\n",
       "host_acceptance_rate           0.797538\n",
       "host_is_superhost              0.999476\n",
       "host_thumbnail_url             0.999476\n",
       "host_picture_url               0.999476\n",
       "host_neighbourhood             0.921425\n",
       "host_listings_count            0.999476\n",
       "host_total_listings_count      0.999476\n",
       "host_has_profile_pic           0.999476\n",
       "host_identity_verified         0.999476\n",
       "neighbourhood                  0.891042\n",
       "zipcode                        0.998167\n",
       "property_type                  0.999738\n",
       "bathrooms                      0.995809\n",
       "bedrooms                       0.998428\n",
       "beds                           0.999738\n",
       "square_feet                    0.025406\n",
       "weekly_price                   0.526192\n",
       "monthly_price                  0.397328\n",
       "security_deposit               0.488738\n",
       "cleaning_fee                   0.730225\n",
       "first_review                   0.835778\n",
       "last_review                    0.835778\n",
       "review_scores_rating           0.830540\n",
       "review_scores_accuracy         0.827658\n",
       "review_scores_cleanliness      0.828968\n",
       "review_scores_checkin          0.827658\n",
       "review_scores_communication    0.829492\n",
       "review_scores_location         0.828444\n",
       "review_scores_value            0.828182\n",
       "license                        0.000000\n",
       "reviews_per_month              0.835778\n",
       "dtype: float64"
      ]
     },
     "execution_count": 10,
     "metadata": {},
     "output_type": "execute_result"
    }
   ],
   "source": [
    "df_list[df_list.columns[df_list.count() < df_list.shape[0]]].count() / df_list.shape[0]"
   ]
  },
  {
   "cell_type": "markdown",
   "id": "7adfe04b",
   "metadata": {},
   "source": [
    "# Question 1 - Is a higher price rectified by a higher customer satisfaction?\n",
    "\n",
    "## find a measure for customer satisfaction\n",
    "\n",
    "A measure for the customer satisfaction is the rating which is available in df_list. Next to review_scores_rating there are 6 detail values for checkin, value, communication, ...\n",
    "Maybe \"value\" could also be of interest for the question.\n",
    "\n",
    "Let´s see how many data sets are filled out"
   ]
  },
  {
   "cell_type": "code",
   "execution_count": 11,
   "id": "b23b1b64",
   "metadata": {},
   "outputs": [
    {
     "data": {
      "text/plain": [
       "review_scores_rating           0.830540\n",
       "review_scores_accuracy         0.827658\n",
       "review_scores_cleanliness      0.828968\n",
       "review_scores_checkin          0.827658\n",
       "review_scores_communication    0.829492\n",
       "review_scores_location         0.828444\n",
       "review_scores_value            0.828182\n",
       "dtype: float64"
      ]
     },
     "execution_count": 11,
     "metadata": {},
     "output_type": "execute_result"
    }
   ],
   "source": [
    "df_list[[\"review_scores_rating\", \"review_scores_accuracy\", \"review_scores_cleanliness\", \"review_scores_checkin\", \"review_scores_communication\", \"review_scores_location\", \"review_scores_value\"]].count() / df_list.shape[0]"
   ]
  },
  {
   "cell_type": "markdown",
   "id": "e5b1e6d3",
   "metadata": {},
   "source": [
    "looking at some example data"
   ]
  },
  {
   "cell_type": "code",
   "execution_count": 12,
   "id": "07c3d1d6",
   "metadata": {},
   "outputs": [
    {
     "data": {
      "text/html": [
       "<div>\n",
       "<style scoped>\n",
       "    .dataframe tbody tr th:only-of-type {\n",
       "        vertical-align: middle;\n",
       "    }\n",
       "\n",
       "    .dataframe tbody tr th {\n",
       "        vertical-align: top;\n",
       "    }\n",
       "\n",
       "    .dataframe thead th {\n",
       "        text-align: right;\n",
       "    }\n",
       "</style>\n",
       "<table border=\"1\" class=\"dataframe\">\n",
       "  <thead>\n",
       "    <tr style=\"text-align: right;\">\n",
       "      <th></th>\n",
       "      <th>review_scores_rating</th>\n",
       "      <th>review_scores_accuracy</th>\n",
       "      <th>review_scores_cleanliness</th>\n",
       "      <th>review_scores_checkin</th>\n",
       "      <th>review_scores_communication</th>\n",
       "      <th>review_scores_location</th>\n",
       "      <th>review_scores_value</th>\n",
       "    </tr>\n",
       "  </thead>\n",
       "  <tbody>\n",
       "    <tr>\n",
       "      <th>0</th>\n",
       "      <td>95.0</td>\n",
       "      <td>10.0</td>\n",
       "      <td>10.0</td>\n",
       "      <td>10.0</td>\n",
       "      <td>10.0</td>\n",
       "      <td>9.0</td>\n",
       "      <td>10.0</td>\n",
       "    </tr>\n",
       "    <tr>\n",
       "      <th>1</th>\n",
       "      <td>96.0</td>\n",
       "      <td>10.0</td>\n",
       "      <td>10.0</td>\n",
       "      <td>10.0</td>\n",
       "      <td>10.0</td>\n",
       "      <td>10.0</td>\n",
       "      <td>10.0</td>\n",
       "    </tr>\n",
       "    <tr>\n",
       "      <th>2</th>\n",
       "      <td>97.0</td>\n",
       "      <td>10.0</td>\n",
       "      <td>10.0</td>\n",
       "      <td>10.0</td>\n",
       "      <td>10.0</td>\n",
       "      <td>10.0</td>\n",
       "      <td>10.0</td>\n",
       "    </tr>\n",
       "    <tr>\n",
       "      <th>3</th>\n",
       "      <td>NaN</td>\n",
       "      <td>NaN</td>\n",
       "      <td>NaN</td>\n",
       "      <td>NaN</td>\n",
       "      <td>NaN</td>\n",
       "      <td>NaN</td>\n",
       "      <td>NaN</td>\n",
       "    </tr>\n",
       "    <tr>\n",
       "      <th>4</th>\n",
       "      <td>92.0</td>\n",
       "      <td>9.0</td>\n",
       "      <td>9.0</td>\n",
       "      <td>10.0</td>\n",
       "      <td>10.0</td>\n",
       "      <td>9.0</td>\n",
       "      <td>9.0</td>\n",
       "    </tr>\n",
       "    <tr>\n",
       "      <th>...</th>\n",
       "      <td>...</td>\n",
       "      <td>...</td>\n",
       "      <td>...</td>\n",
       "      <td>...</td>\n",
       "      <td>...</td>\n",
       "      <td>...</td>\n",
       "      <td>...</td>\n",
       "    </tr>\n",
       "    <tr>\n",
       "      <th>3813</th>\n",
       "      <td>80.0</td>\n",
       "      <td>8.0</td>\n",
       "      <td>10.0</td>\n",
       "      <td>4.0</td>\n",
       "      <td>8.0</td>\n",
       "      <td>10.0</td>\n",
       "      <td>8.0</td>\n",
       "    </tr>\n",
       "    <tr>\n",
       "      <th>3814</th>\n",
       "      <td>100.0</td>\n",
       "      <td>10.0</td>\n",
       "      <td>10.0</td>\n",
       "      <td>10.0</td>\n",
       "      <td>10.0</td>\n",
       "      <td>10.0</td>\n",
       "      <td>10.0</td>\n",
       "    </tr>\n",
       "    <tr>\n",
       "      <th>3815</th>\n",
       "      <td>NaN</td>\n",
       "      <td>NaN</td>\n",
       "      <td>NaN</td>\n",
       "      <td>NaN</td>\n",
       "      <td>NaN</td>\n",
       "      <td>NaN</td>\n",
       "      <td>NaN</td>\n",
       "    </tr>\n",
       "    <tr>\n",
       "      <th>3816</th>\n",
       "      <td>NaN</td>\n",
       "      <td>NaN</td>\n",
       "      <td>NaN</td>\n",
       "      <td>NaN</td>\n",
       "      <td>NaN</td>\n",
       "      <td>NaN</td>\n",
       "      <td>NaN</td>\n",
       "    </tr>\n",
       "    <tr>\n",
       "      <th>3817</th>\n",
       "      <td>NaN</td>\n",
       "      <td>NaN</td>\n",
       "      <td>NaN</td>\n",
       "      <td>NaN</td>\n",
       "      <td>NaN</td>\n",
       "      <td>NaN</td>\n",
       "      <td>NaN</td>\n",
       "    </tr>\n",
       "  </tbody>\n",
       "</table>\n",
       "<p>3818 rows × 7 columns</p>\n",
       "</div>"
      ],
      "text/plain": [
       "      review_scores_rating  review_scores_accuracy  review_scores_cleanliness  \\\n",
       "0                     95.0                    10.0                       10.0   \n",
       "1                     96.0                    10.0                       10.0   \n",
       "2                     97.0                    10.0                       10.0   \n",
       "3                      NaN                     NaN                        NaN   \n",
       "4                     92.0                     9.0                        9.0   \n",
       "...                    ...                     ...                        ...   \n",
       "3813                  80.0                     8.0                       10.0   \n",
       "3814                 100.0                    10.0                       10.0   \n",
       "3815                   NaN                     NaN                        NaN   \n",
       "3816                   NaN                     NaN                        NaN   \n",
       "3817                   NaN                     NaN                        NaN   \n",
       "\n",
       "      review_scores_checkin  review_scores_communication  \\\n",
       "0                      10.0                         10.0   \n",
       "1                      10.0                         10.0   \n",
       "2                      10.0                         10.0   \n",
       "3                       NaN                          NaN   \n",
       "4                      10.0                         10.0   \n",
       "...                     ...                          ...   \n",
       "3813                    4.0                          8.0   \n",
       "3814                   10.0                         10.0   \n",
       "3815                    NaN                          NaN   \n",
       "3816                    NaN                          NaN   \n",
       "3817                    NaN                          NaN   \n",
       "\n",
       "      review_scores_location  review_scores_value  \n",
       "0                        9.0                 10.0  \n",
       "1                       10.0                 10.0  \n",
       "2                       10.0                 10.0  \n",
       "3                        NaN                  NaN  \n",
       "4                        9.0                  9.0  \n",
       "...                      ...                  ...  \n",
       "3813                    10.0                  8.0  \n",
       "3814                    10.0                 10.0  \n",
       "3815                     NaN                  NaN  \n",
       "3816                     NaN                  NaN  \n",
       "3817                     NaN                  NaN  \n",
       "\n",
       "[3818 rows x 7 columns]"
      ]
     },
     "execution_count": 12,
     "metadata": {},
     "output_type": "execute_result"
    }
   ],
   "source": [
    "df_list[[\"review_scores_rating\", \"review_scores_accuracy\", \"review_scores_cleanliness\", \"review_scores_checkin\", \"review_scores_communication\", \"review_scores_location\", \"review_scores_value\"]]"
   ]
  },
  {
   "cell_type": "markdown",
   "id": "5ef7709c",
   "metadata": {},
   "source": [
    "`review_scores_rating` is not a calculated value from the other ratings, because there are two data sets (1 + 2) with identical review scores, but different rating"
   ]
  },
  {
   "cell_type": "code",
   "execution_count": 13,
   "id": "55d4f82e",
   "metadata": {},
   "outputs": [
    {
     "data": {
      "text/html": [
       "<div>\n",
       "<style scoped>\n",
       "    .dataframe tbody tr th:only-of-type {\n",
       "        vertical-align: middle;\n",
       "    }\n",
       "\n",
       "    .dataframe tbody tr th {\n",
       "        vertical-align: top;\n",
       "    }\n",
       "\n",
       "    .dataframe thead th {\n",
       "        text-align: right;\n",
       "    }\n",
       "</style>\n",
       "<table border=\"1\" class=\"dataframe\">\n",
       "  <thead>\n",
       "    <tr style=\"text-align: right;\">\n",
       "      <th></th>\n",
       "      <th>review_scores_rating</th>\n",
       "      <th>review_scores_accuracy</th>\n",
       "      <th>review_scores_cleanliness</th>\n",
       "      <th>review_scores_checkin</th>\n",
       "      <th>review_scores_communication</th>\n",
       "      <th>review_scores_location</th>\n",
       "      <th>review_scores_value</th>\n",
       "    </tr>\n",
       "  </thead>\n",
       "  <tbody>\n",
       "    <tr>\n",
       "      <th>1</th>\n",
       "      <td>96.0</td>\n",
       "      <td>10.0</td>\n",
       "      <td>10.0</td>\n",
       "      <td>10.0</td>\n",
       "      <td>10.0</td>\n",
       "      <td>10.0</td>\n",
       "      <td>10.0</td>\n",
       "    </tr>\n",
       "    <tr>\n",
       "      <th>2</th>\n",
       "      <td>97.0</td>\n",
       "      <td>10.0</td>\n",
       "      <td>10.0</td>\n",
       "      <td>10.0</td>\n",
       "      <td>10.0</td>\n",
       "      <td>10.0</td>\n",
       "      <td>10.0</td>\n",
       "    </tr>\n",
       "  </tbody>\n",
       "</table>\n",
       "</div>"
      ],
      "text/plain": [
       "   review_scores_rating  review_scores_accuracy  review_scores_cleanliness  \\\n",
       "1                  96.0                    10.0                       10.0   \n",
       "2                  97.0                    10.0                       10.0   \n",
       "\n",
       "   review_scores_checkin  review_scores_communication  review_scores_location  \\\n",
       "1                   10.0                         10.0                    10.0   \n",
       "2                   10.0                         10.0                    10.0   \n",
       "\n",
       "   review_scores_value  \n",
       "1                 10.0  \n",
       "2                 10.0  "
      ]
     },
     "execution_count": 13,
     "metadata": {},
     "output_type": "execute_result"
    }
   ],
   "source": [
    "df_list[[\"review_scores_rating\", \"review_scores_accuracy\", \"review_scores_cleanliness\", \"review_scores_checkin\", \"review_scores_communication\", \"review_scores_location\", \"review_scores_value\"]].iloc[[1,2]]"
   ]
  },
  {
   "cell_type": "markdown",
   "id": "7371cf86",
   "metadata": {},
   "source": [
    "## Select price\n",
    "\n",
    "there are two fields for price, a weekly and a monthly price"
   ]
  },
  {
   "cell_type": "code",
   "execution_count": 14,
   "id": "637200ca",
   "metadata": {},
   "outputs": [
    {
     "data": {
      "text/plain": [
       "weekly_price     2009\n",
       "monthly_price    1517\n",
       "dtype: int64"
      ]
     },
     "execution_count": 14,
     "metadata": {},
     "output_type": "execute_result"
    }
   ],
   "source": [
    "df_list[[\"weekly_price\", \"monthly_price\"]].count()"
   ]
  },
  {
   "cell_type": "code",
   "execution_count": 15,
   "id": "ad05dae4",
   "metadata": {},
   "outputs": [
    {
     "data": {
      "text/plain": [
       "weekly_price     0.526192\n",
       "monthly_price    0.397328\n",
       "dtype: float64"
      ]
     },
     "execution_count": 15,
     "metadata": {},
     "output_type": "execute_result"
    }
   ],
   "source": [
    "df_list[[\"weekly_price\", \"monthly_price\"]].count() / df_list.shape[0]"
   ]
  },
  {
   "cell_type": "markdown",
   "id": "9469473e",
   "metadata": {},
   "source": [
    "Only half of the listings have prices. Lets have a look, if we can enrich the data from the calendar data.\n",
    "price field is not always filled out, so we can drop all rows without a price:"
   ]
  },
  {
   "cell_type": "code",
   "execution_count": 16,
   "id": "4fd540d6",
   "metadata": {},
   "outputs": [
    {
     "data": {
      "text/html": [
       "<div>\n",
       "<style scoped>\n",
       "    .dataframe tbody tr th:only-of-type {\n",
       "        vertical-align: middle;\n",
       "    }\n",
       "\n",
       "    .dataframe tbody tr th {\n",
       "        vertical-align: top;\n",
       "    }\n",
       "\n",
       "    .dataframe thead th {\n",
       "        text-align: right;\n",
       "    }\n",
       "</style>\n",
       "<table border=\"1\" class=\"dataframe\">\n",
       "  <thead>\n",
       "    <tr style=\"text-align: right;\">\n",
       "      <th></th>\n",
       "      <th>date</th>\n",
       "      <th>available</th>\n",
       "      <th>price</th>\n",
       "    </tr>\n",
       "    <tr>\n",
       "      <th>listing_id</th>\n",
       "      <th></th>\n",
       "      <th></th>\n",
       "      <th></th>\n",
       "    </tr>\n",
       "  </thead>\n",
       "  <tbody>\n",
       "    <tr>\n",
       "      <th>3335</th>\n",
       "      <td>309</td>\n",
       "      <td>309</td>\n",
       "      <td>309</td>\n",
       "    </tr>\n",
       "    <tr>\n",
       "      <th>4291</th>\n",
       "      <td>365</td>\n",
       "      <td>365</td>\n",
       "      <td>365</td>\n",
       "    </tr>\n",
       "    <tr>\n",
       "      <th>5682</th>\n",
       "      <td>309</td>\n",
       "      <td>309</td>\n",
       "      <td>309</td>\n",
       "    </tr>\n",
       "    <tr>\n",
       "      <th>6606</th>\n",
       "      <td>365</td>\n",
       "      <td>365</td>\n",
       "      <td>365</td>\n",
       "    </tr>\n",
       "    <tr>\n",
       "      <th>7369</th>\n",
       "      <td>53</td>\n",
       "      <td>53</td>\n",
       "      <td>53</td>\n",
       "    </tr>\n",
       "    <tr>\n",
       "      <th>...</th>\n",
       "      <td>...</td>\n",
       "      <td>...</td>\n",
       "      <td>...</td>\n",
       "    </tr>\n",
       "    <tr>\n",
       "      <th>10331249</th>\n",
       "      <td>354</td>\n",
       "      <td>354</td>\n",
       "      <td>354</td>\n",
       "    </tr>\n",
       "    <tr>\n",
       "      <th>10332096</th>\n",
       "      <td>365</td>\n",
       "      <td>365</td>\n",
       "      <td>365</td>\n",
       "    </tr>\n",
       "    <tr>\n",
       "      <th>10334184</th>\n",
       "      <td>361</td>\n",
       "      <td>361</td>\n",
       "      <td>361</td>\n",
       "    </tr>\n",
       "    <tr>\n",
       "      <th>10339145</th>\n",
       "      <td>365</td>\n",
       "      <td>365</td>\n",
       "      <td>365</td>\n",
       "    </tr>\n",
       "    <tr>\n",
       "      <th>10340165</th>\n",
       "      <td>358</td>\n",
       "      <td>358</td>\n",
       "      <td>358</td>\n",
       "    </tr>\n",
       "  </tbody>\n",
       "</table>\n",
       "<p>3723 rows × 3 columns</p>\n",
       "</div>"
      ],
      "text/plain": [
       "            date  available  price\n",
       "listing_id                        \n",
       "3335         309        309    309\n",
       "4291         365        365    365\n",
       "5682         309        309    309\n",
       "6606         365        365    365\n",
       "7369          53         53     53\n",
       "...          ...        ...    ...\n",
       "10331249     354        354    354\n",
       "10332096     365        365    365\n",
       "10334184     361        361    361\n",
       "10339145     365        365    365\n",
       "10340165     358        358    358\n",
       "\n",
       "[3723 rows x 3 columns]"
      ]
     },
     "execution_count": 16,
     "metadata": {},
     "output_type": "execute_result"
    }
   ],
   "source": [
    "df_cal.dropna().groupby(\"listing_id\").count()"
   ]
  },
  {
   "cell_type": "markdown",
   "id": "8d11560d",
   "metadata": {},
   "source": [
    "that looks much better, for nearly all listings there are prices. As an estimate we can use the average.\n",
    "Simply use of mean() for the `price` field results in an error, because the format is a string like \"$85.00\".\n"
   ]
  },
  {
   "cell_type": "code",
   "execution_count": 17,
   "id": "9b974d8e",
   "metadata": {},
   "outputs": [
    {
     "data": {
      "text/html": [
       "<div>\n",
       "<style scoped>\n",
       "    .dataframe tbody tr th:only-of-type {\n",
       "        vertical-align: middle;\n",
       "    }\n",
       "\n",
       "    .dataframe tbody tr th {\n",
       "        vertical-align: top;\n",
       "    }\n",
       "\n",
       "    .dataframe thead th {\n",
       "        text-align: right;\n",
       "    }\n",
       "</style>\n",
       "<table border=\"1\" class=\"dataframe\">\n",
       "  <thead>\n",
       "    <tr style=\"text-align: right;\">\n",
       "      <th></th>\n",
       "      <th>listing_id</th>\n",
       "      <th>price</th>\n",
       "    </tr>\n",
       "  </thead>\n",
       "  <tbody>\n",
       "    <tr>\n",
       "      <th>0</th>\n",
       "      <td>241032</td>\n",
       "      <td>$85.00</td>\n",
       "    </tr>\n",
       "    <tr>\n",
       "      <th>1</th>\n",
       "      <td>241032</td>\n",
       "      <td>$85.00</td>\n",
       "    </tr>\n",
       "    <tr>\n",
       "      <th>9</th>\n",
       "      <td>241032</td>\n",
       "      <td>$85.00</td>\n",
       "    </tr>\n",
       "    <tr>\n",
       "      <th>10</th>\n",
       "      <td>241032</td>\n",
       "      <td>$85.00</td>\n",
       "    </tr>\n",
       "    <tr>\n",
       "      <th>14</th>\n",
       "      <td>241032</td>\n",
       "      <td>$85.00</td>\n",
       "    </tr>\n",
       "    <tr>\n",
       "      <th>...</th>\n",
       "      <td>...</td>\n",
       "      <td>...</td>\n",
       "    </tr>\n",
       "    <tr>\n",
       "      <th>1393205</th>\n",
       "      <td>10208623</td>\n",
       "      <td>$87.00</td>\n",
       "    </tr>\n",
       "    <tr>\n",
       "      <th>1393206</th>\n",
       "      <td>10208623</td>\n",
       "      <td>$87.00</td>\n",
       "    </tr>\n",
       "    <tr>\n",
       "      <th>1393207</th>\n",
       "      <td>10208623</td>\n",
       "      <td>$87.00</td>\n",
       "    </tr>\n",
       "    <tr>\n",
       "      <th>1393208</th>\n",
       "      <td>10208623</td>\n",
       "      <td>$87.00</td>\n",
       "    </tr>\n",
       "    <tr>\n",
       "      <th>1393211</th>\n",
       "      <td>10208623</td>\n",
       "      <td>$87.00</td>\n",
       "    </tr>\n",
       "  </tbody>\n",
       "</table>\n",
       "<p>18470 rows × 2 columns</p>\n",
       "</div>"
      ],
      "text/plain": [
       "         listing_id   price\n",
       "0            241032  $85.00\n",
       "1            241032  $85.00\n",
       "9            241032  $85.00\n",
       "10           241032  $85.00\n",
       "14           241032  $85.00\n",
       "...             ...     ...\n",
       "1393205    10208623  $87.00\n",
       "1393206    10208623  $87.00\n",
       "1393207    10208623  $87.00\n",
       "1393208    10208623  $87.00\n",
       "1393211    10208623  $87.00\n",
       "\n",
       "[18470 rows x 2 columns]"
      ]
     },
     "execution_count": 17,
     "metadata": {},
     "output_type": "execute_result"
    }
   ],
   "source": [
    "df_cal[[\"listing_id\",\"price\"]].dropna().groupby(\"listing_id\").head()"
   ]
  },
  {
   "cell_type": "markdown",
   "id": "511bbe6c",
   "metadata": {},
   "source": [
    "So, before calculating with the price, we have to convert it to float"
   ]
  },
  {
   "cell_type": "code",
   "execution_count": 18,
   "id": "18a0b721",
   "metadata": {},
   "outputs": [
    {
     "data": {
      "text/plain": [
       "85.0"
      ]
     },
     "execution_count": 18,
     "metadata": {},
     "output_type": "execute_result"
    }
   ],
   "source": [
    "#%%pycodestyle\n",
    "\n",
    "def dollar_to_float(dollar_string):\n",
    "    '''\n",
    "    convert a currency value like '$85.00' into a float.\n",
    "    There is no check, that the first character is really a '$' char.\n",
    "\n",
    "    Input:\n",
    "    dollar_string: input in format '$NNN.NN'\n",
    "\n",
    "    Output:\n",
    "    float value for the given input\n",
    "    '''\n",
    "    return float(dollar_string[1:])\n",
    "\n",
    "\n",
    "dollar_to_float(\"$85.00\")"
   ]
  },
  {
   "cell_type": "markdown",
   "id": "38676b92",
   "metadata": {},
   "source": [
    "Still getting an error, because dollar_to_float throws an exception on some inputs"
   ]
  },
  {
   "cell_type": "markdown",
   "id": "f87e6d05",
   "metadata": {},
   "source": [
    "## remove entries from calender without price"
   ]
  },
  {
   "cell_type": "code",
   "execution_count": 19,
   "id": "beb89221",
   "metadata": {},
   "outputs": [
    {
     "data": {
      "text/plain": [
       "array(['$85.00', '$125.00', '$154.00', '$164.00', '$165.00', '$150.00',\n",
       "       '$145.00', '$144.00', '$148.00', '$155.00', '$149.00', '$156.00',\n",
       "       '$166.00', '$152.00', '$147.00', '$146.00', '$151.00', '$158.00',\n",
       "       '$168.00', '$169.00', '$192.00', '$175.00', '$162.00', '$171.00',\n",
       "       '$173.00', '$153.00', '$177.00', '$183.00', '$181.00', '$170.00',\n",
       "       '$179.00', '$167.00', '$184.00', '$186.00', '$172.00', '$180.00',\n",
       "       '$190.00', '$178.00', '$196.00', '$197.00', '$202.00', '$198.00',\n",
       "       '$205.00', '$214.00', '$218.00', '$211.00', '$193.00', '$204.00',\n",
       "       '$189.00', '$187.00', '$194.00', '$185.00', '$206.00', '$191.00',\n",
       "       '$207.00', '$208.00', '$188.00', '$200.00', '$209.00', '$210.00',\n",
       "       '$195.00', '$201.00', '$199.00', '$203.00', '$182.00', '$163.00',\n",
       "       '$159.00', '$157.00', '$142.00', '$136.00', '$134.00', '$137.00',\n",
       "       '$143.00', '$135.00', '$141.00', '$130.00', '$138.00', '$133.00',\n",
       "       '$129.00', '$127.00', '$126.00', '$131.00', '$132.00', '$220.00',\n",
       "       '$222.00', '$223.00', '$232.00', '$217.00', '$229.00', '$294.00',\n",
       "       '$358.00', '$439.00', '$400.00', '$975.00', '$750.00', '$500.00',\n",
       "       '$650.00', '$675.00', '$1,250.00', '$1,450.00', '$1,650.00',\n",
       "       '$100.00', '$600.00', '$450.00', '$475.00', '$120.00', '$140.00',\n",
       "       '$80.00', '$42.00', '$49.00', '$60.00', '$48.00', '$47.00',\n",
       "       '$52.00', '$51.00', '$50.00', '$53.00', '$61.00', '$54.00',\n",
       "       '$62.00', '$55.00', '$90.00', '$139.00', '$95.00', '$69.00',\n",
       "       '$71.00', '$74.00', '$81.00', '$84.00', '$76.00', '$82.00',\n",
       "       '$86.00', '$83.00', '$89.00', '$88.00', '$72.00', '$99.00',\n",
       "       '$245.00', '$98.00', '$103.00', '$104.00', '$112.00', '$122.00',\n",
       "       '$115.00', '$118.00', '$117.00', '$124.00', '$119.00', '$250.00',\n",
       "       '$399.00', '$549.00', '$468.00', '$419.00', '$420.00', '$455.00',\n",
       "       '$514.00', '$547.00', '$571.00', '$627.00', '$665.00', '$654.00',\n",
       "       '$590.00', '$581.00', '$579.00', '$589.00', '$629.00', '$640.00',\n",
       "       '$611.00', '$584.00', '$570.00', '$551.00', '$530.00', '$594.00',\n",
       "       '$614.00', '$604.00', '$602.00', '$612.00', '$649.00', '$655.00',\n",
       "       '$638.00', '$625.00', '$616.00', '$613.00', '$633.00', '$656.00',\n",
       "       '$642.00', '$636.00', '$644.00', '$630.00', '$621.00', '$800.00',\n",
       "       '$461.00', '$109.00', '$56.00', '$57.00', '$58.00', '$59.00',\n",
       "       '$63.00', '$64.00', '$65.00', '$67.00', '$75.00', '$66.00',\n",
       "       '$700.00', '$110.00', '$310.00', '$312.00', '$315.00', '$321.00',\n",
       "       '$550.00', '$43.00', '$45.00', '$44.00', '$46.00', '$280.00',\n",
       "       '$300.00', '$325.00', '$350.00', '$375.00', '$161.00', '$174.00',\n",
       "       '$176.00', '$226.00', '$213.00', '$212.00', '$221.00', '$225.00',\n",
       "       '$216.00', '$227.00', '$231.00', '$236.00', '$240.00', '$251.00',\n",
       "       '$254.00', '$255.00', '$246.00', '$248.00', '$230.00', '$235.00',\n",
       "       '$238.00', '$215.00', '$237.00', '$228.00', '$242.00', '$224.00',\n",
       "       '$241.00', '$244.00', '$233.00', '$243.00', '$234.00', '$247.00',\n",
       "       '$239.00', '$219.00', '$160.00', '$128.00', '$257.00', '$259.00',\n",
       "       '$261.00', '$272.00', '$252.00', '$320.00', '$402.00', '$445.00',\n",
       "       '$501.00', '$452.00', '$249.00', '$395.00', '$108.00', '$285.00',\n",
       "       '$113.00', '$348.00', '$91.00', '$92.00', '$97.00', '$93.00',\n",
       "       '$94.00', '$96.00', '$102.00', '$105.00', '$111.00', '$106.00',\n",
       "       '$114.00', '$121.00', '$116.00', '$123.00', '$1,240.00', '$349.00',\n",
       "       '$449.00', '$20.00', '$70.00', '$68.00', '$73.00', '$79.00',\n",
       "       '$77.00', '$78.00', '$334.00', '$341.00', '$369.00', '$385.00',\n",
       "       '$430.00', '$441.00', '$398.00', '$357.00', '$364.00', '$362.00',\n",
       "       '$371.00', '$438.00', '$378.00', '$401.00', '$444.00', '$403.00',\n",
       "       '$373.00', '$367.00', '$384.00', '$409.00', '$448.00', '$456.00',\n",
       "       '$414.00', '$470.00', '$386.00', '$428.00', '$467.00', '$425.00',\n",
       "       '$392.00', '$404.00', '$432.00', '$480.00', '$391.00', '$405.00',\n",
       "       '$477.00', '$483.00', '$412.00', '$485.00', '$493.00', '$442.00',\n",
       "       '$423.00', '$496.00', '$502.00', '$464.00', '$433.00', '$427.00',\n",
       "       '$474.00', '$525.00', '$536.00', '$465.00', '$437.00', '$473.00',\n",
       "       '$494.00', '$531.00', '$592.00', '$607.00', '$523.00', '$546.00',\n",
       "       '$572.00', '$595.00', '$634.00', '$693.00', '$709.00', '$598.00',\n",
       "       '$624.00', '$657.00', '$695.00', '$666.00', '$619.00', '$609.00',\n",
       "       '$631.00', '$670.00', '$735.00', '$745.00', '$669.00', '$683.00',\n",
       "       '$751.00', '$759.00', '$685.00', '$698.00', '$780.00', '$794.00',\n",
       "       '$652.00', '$674.00', '$743.00', '$662.00', '$622.00', '$668.00',\n",
       "       '$724.00', '$716.00', '$722.00', '$686.00', '$637.00', '$626.00',\n",
       "       '$643.00', '$737.00', '$744.00', '$663.00', '$620.00', '$608.00',\n",
       "       '$639.00', '$593.00', '$574.00', '$39.00', '$31.00', '$30.00',\n",
       "       '$33.00', '$40.00', '$38.00', '$41.00', '$25.00', '$282.00',\n",
       "       '$339.00', '$390.00', '$355.00', '$107.00', '$275.00', '$35.00',\n",
       "       '$34.00', '$273.00', '$293.00', '$260.00', '$302.00', '$266.00',\n",
       "       '$267.00', '$291.00', '$271.00', '$258.00', '$269.00', '$301.00',\n",
       "       '$308.00', '$278.00', '$276.00', '$309.00', '$253.00', '$279.00',\n",
       "       '$313.00', '$264.00', '$286.00', '$289.00', '$268.00', '$331.00',\n",
       "       '$270.00', '$299.00', '$329.00', '$297.00', '$274.00', '$332.00',\n",
       "       '$288.00', '$306.00', '$340.00', '$346.00', '$296.00', '$314.00',\n",
       "       '$324.00', '$303.00', '$376.00', '$290.00', '$330.00', '$345.00',\n",
       "       '$424.00', '$365.00', '$382.00', '$416.00', '$443.00', '$489.00',\n",
       "       '$422.00', '$436.00', '$459.00', '$486.00', '$466.00', '$426.00',\n",
       "       '$515.00', '$522.00', '$478.00', '$526.00', '$532.00', '$479.00',\n",
       "       '$543.00', '$553.00', '$87.00', '$101.00', '$37.00', '$265.00',\n",
       "       '$322.00', '$307.00', '$338.00', '$311.00', '$298.00', '$323.00',\n",
       "       '$327.00', '$363.00', '$342.00', '$353.00', '$383.00', '$354.00',\n",
       "       '$397.00', '$368.00', '$360.00', '$374.00', '$359.00', '$356.00',\n",
       "       '$379.00', '$408.00', '$361.00', '$407.00', '$413.00', '$388.00',\n",
       "       '$411.00', '$389.00', '$415.00', '$406.00', '$410.00', '$396.00',\n",
       "       '$344.00', '$351.00', '$381.00', '$366.00', '$352.00', '$316.00',\n",
       "       '$347.00', '$317.00', '$284.00', '$319.00', '$287.00', '$305.00',\n",
       "       '$292.00', '$256.00', '$380.00', '$277.00', '$482.00', '$658.00',\n",
       "       '$708.00', '$262.00', '$435.00', '$393.00', '$328.00', '$535.00',\n",
       "       '$446.00', '$472.00', '$899.00', '$999.00', '$1,099.00',\n",
       "       '$1,199.00', '$749.00', '$295.00', '$335.00', '$499.00', '$680.00',\n",
       "       '$333.00', '$421.00', '$575.00', '$326.00', '$318.00', '$370.00',\n",
       "       '$372.00', '$377.00', '$417.00', '$431.00', '$463.00', '$429.00',\n",
       "       '$454.00', '$440.00', '$281.00', '$336.00', '$394.00', '$387.00',\n",
       "       '$537.00', '$520.00', '$512.00', '$498.00', '$506.00', '$659.00',\n",
       "       '$676.00', '$610.00', '$490.00', '$564.00', '$491.00', '$651.00',\n",
       "       '$552.00', '$460.00', '$775.00', '$29.00', '$36.00', '$32.00',\n",
       "       '$565.00', '$28.00', '$263.00', '$538.00', '$487.00', '$484.00',\n",
       "       '$453.00', '$457.00', '$488.00', '$557.00', '$283.00', '$337.00',\n",
       "       '$343.00', '$447.00', '$27.00', '$22.00', '$23.00', '$26.00',\n",
       "       '$495.00', '$418.00', '$12.00', '$469.00', '$462.00', '$505.00',\n",
       "       '$509.00', '$507.00', '$511.00', '$476.00', '$434.00', '$516.00',\n",
       "       '$576.00', '$573.00', '$540.00', '$544.00', '$578.00', '$541.00',\n",
       "       '$542.00', '$585.00', '$569.00', '$568.00', '$939.00', '$304.00',\n",
       "       '$508.00', '$510.00', '$562.00', '$825.00', '$723.00', '$727.00',\n",
       "       '$733.00', '$628.00', '$599.00', '$10.00', '$900.00', '$1,000.00',\n",
       "       '$24.00', '$504.00', '$548.00', '$513.00', '$539.00', '$517.00',\n",
       "       '$673.00', '$711.00', '$788.00', '$901.00', '$817.00', '$545.00',\n",
       "       '$451.00', '$481.00', '$527.00', '$519.00', '$560.00', '$563.00',\n",
       "       '$646.00', '$618.00', '$623.00', '$596.00', '$567.00', '$566.00',\n",
       "       '$534.00', '$503.00', '$603.00', '$784.00', '$850.00', '$950.00',\n",
       "       '$524.00', '$471.00', '$533.00', '$583.00', '$554.00'],\n",
       "      dtype=object)"
      ]
     },
     "execution_count": 19,
     "metadata": {},
     "output_type": "execute_result"
    }
   ],
   "source": [
    "df_cal[\"price\"].dropna().unique()"
   ]
  },
  {
   "cell_type": "markdown",
   "id": "ddfa318d",
   "metadata": {},
   "source": [
    "So, the thousands-seperator causes the problems. lets remove it:"
   ]
  },
  {
   "cell_type": "code",
   "execution_count": 20,
   "id": "b5226977",
   "metadata": {},
   "outputs": [
    {
     "data": {
      "text/plain": [
       "1250.0"
      ]
     },
     "execution_count": 20,
     "metadata": {},
     "output_type": "execute_result"
    }
   ],
   "source": [
    "#%%pycodestyle\n",
    "\n",
    "def dollar_to_float(dollar_string):\n",
    "    '''\n",
    "    convert a currency value like '$85.00' into a float.\n",
    "    There is no check, that the first character is really a '$' char.\n",
    "\n",
    "    Input:\n",
    "    dollar_string: input in format '$NNN.NN'\n",
    "\n",
    "    Output:\n",
    "    float value for the given input\n",
    "    '''\n",
    "    return float(dollar_string[1:].replace(\",\",\"\"))\n",
    "\n",
    "\n",
    "dollar_to_float(\"$1,250.00\")"
   ]
  },
  {
   "cell_type": "code",
   "execution_count": 21,
   "id": "2d53c51b",
   "metadata": {},
   "outputs": [
    {
     "data": {
      "text/html": [
       "<div>\n",
       "<style scoped>\n",
       "    .dataframe tbody tr th:only-of-type {\n",
       "        vertical-align: middle;\n",
       "    }\n",
       "\n",
       "    .dataframe tbody tr th {\n",
       "        vertical-align: top;\n",
       "    }\n",
       "\n",
       "    .dataframe thead th {\n",
       "        text-align: right;\n",
       "    }\n",
       "</style>\n",
       "<table border=\"1\" class=\"dataframe\">\n",
       "  <thead>\n",
       "    <tr style=\"text-align: right;\">\n",
       "      <th></th>\n",
       "      <th>price</th>\n",
       "    </tr>\n",
       "    <tr>\n",
       "      <th>listing_id</th>\n",
       "      <th></th>\n",
       "    </tr>\n",
       "  </thead>\n",
       "  <tbody>\n",
       "    <tr>\n",
       "      <th>3335</th>\n",
       "      <td>120.000000</td>\n",
       "    </tr>\n",
       "    <tr>\n",
       "      <th>4291</th>\n",
       "      <td>82.000000</td>\n",
       "    </tr>\n",
       "    <tr>\n",
       "      <th>5682</th>\n",
       "      <td>53.944984</td>\n",
       "    </tr>\n",
       "    <tr>\n",
       "      <th>6606</th>\n",
       "      <td>92.849315</td>\n",
       "    </tr>\n",
       "    <tr>\n",
       "      <th>7369</th>\n",
       "      <td>85.000000</td>\n",
       "    </tr>\n",
       "    <tr>\n",
       "      <th>...</th>\n",
       "      <td>...</td>\n",
       "    </tr>\n",
       "    <tr>\n",
       "      <th>10331249</th>\n",
       "      <td>45.000000</td>\n",
       "    </tr>\n",
       "    <tr>\n",
       "      <th>10332096</th>\n",
       "      <td>40.000000</td>\n",
       "    </tr>\n",
       "    <tr>\n",
       "      <th>10334184</th>\n",
       "      <td>120.000000</td>\n",
       "    </tr>\n",
       "    <tr>\n",
       "      <th>10339145</th>\n",
       "      <td>237.904110</td>\n",
       "    </tr>\n",
       "    <tr>\n",
       "      <th>10340165</th>\n",
       "      <td>43.000000</td>\n",
       "    </tr>\n",
       "  </tbody>\n",
       "</table>\n",
       "<p>3723 rows × 1 columns</p>\n",
       "</div>"
      ],
      "text/plain": [
       "                 price\n",
       "listing_id            \n",
       "3335        120.000000\n",
       "4291         82.000000\n",
       "5682         53.944984\n",
       "6606         92.849315\n",
       "7369         85.000000\n",
       "...                ...\n",
       "10331249     45.000000\n",
       "10332096     40.000000\n",
       "10334184    120.000000\n",
       "10339145    237.904110\n",
       "10340165     43.000000\n",
       "\n",
       "[3723 rows x 1 columns]"
      ]
     },
     "execution_count": 21,
     "metadata": {},
     "output_type": "execute_result"
    }
   ],
   "source": [
    "df_cal_price = df_cal[[\"listing_id\",\"price\"]].dropna()\n",
    "df_cal_price[\"price\"] = df_cal_price[\"price\"].apply(dollar_to_float)\n",
    "df_merge_price = df_cal_price.groupby(\"listing_id\").mean()\n",
    "df_merge_price"
   ]
  },
  {
   "cell_type": "markdown",
   "id": "e6bbcfb6",
   "metadata": {},
   "source": [
    "Take a look at the distribution:"
   ]
  },
  {
   "cell_type": "code",
   "execution_count": 22,
   "id": "94c65577",
   "metadata": {},
   "outputs": [
    {
     "data": {
      "image/png": "[encoded data removed]",
      "text/plain": [
       "<Figure size 640x480 with 1 Axes>"
      ]
     },
     "metadata": {},
     "output_type": "display_data"
    }
   ],
   "source": [
    "df_merge_price.hist(bins=50);"
   ]
  },
  {
   "cell_type": "markdown",
   "id": "06f876cb",
   "metadata": {},
   "source": [
    "Compared to the distribution from the weekly price it looks like a good match"
   ]
  },
  {
   "cell_type": "code",
   "execution_count": 23,
   "id": "a77ae5ff",
   "metadata": {},
   "outputs": [
    {
     "data": {
      "text/plain": [
       "<AxesSubplot: >"
      ]
     },
     "execution_count": 23,
     "metadata": {},
     "output_type": "execute_result"
    },
    {
     "data": {
      "image/png": "[encoded data removed]",
      "text/plain": [
       "<Figure size 640x480 with 1 Axes>"
      ]
     },
     "metadata": {},
     "output_type": "display_data"
    }
   ],
   "source": [
    "(df_list[\"weekly_price\"].dropna().apply(dollar_to_float)/7).hist(bins=50)"
   ]
  },
  {
   "cell_type": "markdown",
   "id": "ea2de211",
   "metadata": {},
   "source": [
    "Now putting rating and price (and review_score_value) together"
   ]
  },
  {
   "cell_type": "markdown",
   "id": "be8ab4a7",
   "metadata": {},
   "source": [
    "Check that df_cal[\"listing_id\"] is a reference to df_list[\"id\"]"
   ]
  },
  {
   "cell_type": "code",
   "execution_count": 24,
   "id": "9b96c40b",
   "metadata": {},
   "outputs": [
    {
     "name": "stdout",
     "output_type": "stream",
     "text": [
      "3818\n",
      "3818\n",
      "3818\n"
     ]
    }
   ],
   "source": [
    "lid_from_cal = set(df_cal[\"listing_id\"].unique())\n",
    "print(len(lid_from_cal))\n",
    "lid_from_list = set(df_list[\"id\"].unique())\n",
    "print(len(lid_from_list))\n",
    "print(len(lid_from_list.union(lid_from_cal)))"
   ]
  },
  {
   "cell_type": "markdown",
   "id": "10b3e760",
   "metadata": {},
   "source": [
    "Merge both dataframes together:"
   ]
  },
  {
   "cell_type": "code",
   "execution_count": 25,
   "id": "34847511",
   "metadata": {},
   "outputs": [],
   "source": [
    "#%%pycodestyle\n",
    "def merge_with_group(df_main, main_ref_column, df_group):\n",
    "    '''\n",
    "    This function merges a dataframe which was grouped by the \n",
    "    column which is used as a reference to the main dataframe\n",
    "\n",
    "    Input:\n",
    "    df_main: outer dataframe\n",
    "    main_ref_column: column which is used as reference for merging\n",
    "    df_group: dataframe whichs column are added to df_main,\n",
    "               index was created from groupby and matches main_ref_column\n",
    "\n",
    "    Output:\n",
    "    newly created dataframe where the columns from df_group\n",
    "    are merged into df_main\n",
    "    '''\n",
    "    df_result = df_main.copy()\n",
    "    df_result = df_main.merge(df_group.reset_index(names=[main_ref_column]),\n",
    "                              left_on=main_ref_column,\n",
    "                              right_on=main_ref_column)\n",
    "    return df_result\n"
   ]
  },
  {
   "cell_type": "code",
   "execution_count": 26,
   "id": "3095d16b",
   "metadata": {},
   "outputs": [
    {
     "data": {
      "text/html": [
       "<div>\n",
       "<style scoped>\n",
       "    .dataframe tbody tr th:only-of-type {\n",
       "        vertical-align: middle;\n",
       "    }\n",
       "\n",
       "    .dataframe tbody tr th {\n",
       "        vertical-align: top;\n",
       "    }\n",
       "\n",
       "    .dataframe thead th {\n",
       "        text-align: right;\n",
       "    }\n",
       "</style>\n",
       "<table border=\"1\" class=\"dataframe\">\n",
       "  <thead>\n",
       "    <tr style=\"text-align: right;\">\n",
       "      <th></th>\n",
       "      <th>id</th>\n",
       "      <th>review_scores_rating</th>\n",
       "      <th>review_scores_value</th>\n",
       "      <th>price</th>\n",
       "    </tr>\n",
       "  </thead>\n",
       "  <tbody>\n",
       "    <tr>\n",
       "      <th>0</th>\n",
       "      <td>241032</td>\n",
       "      <td>95.0</td>\n",
       "      <td>10.0</td>\n",
       "      <td>85.000000</td>\n",
       "    </tr>\n",
       "    <tr>\n",
       "      <th>1</th>\n",
       "      <td>953595</td>\n",
       "      <td>96.0</td>\n",
       "      <td>10.0</td>\n",
       "      <td>170.931271</td>\n",
       "    </tr>\n",
       "    <tr>\n",
       "      <th>2</th>\n",
       "      <td>3308979</td>\n",
       "      <td>97.0</td>\n",
       "      <td>10.0</td>\n",
       "      <td>1301.818182</td>\n",
       "    </tr>\n",
       "    <tr>\n",
       "      <th>4</th>\n",
       "      <td>278830</td>\n",
       "      <td>92.0</td>\n",
       "      <td>9.0</td>\n",
       "      <td>462.739726</td>\n",
       "    </tr>\n",
       "    <tr>\n",
       "      <th>5</th>\n",
       "      <td>5956968</td>\n",
       "      <td>95.0</td>\n",
       "      <td>10.0</td>\n",
       "      <td>125.629139</td>\n",
       "    </tr>\n",
       "    <tr>\n",
       "      <th>...</th>\n",
       "      <td>...</td>\n",
       "      <td>...</td>\n",
       "      <td>...</td>\n",
       "      <td>...</td>\n",
       "    </tr>\n",
       "    <tr>\n",
       "      <th>3715</th>\n",
       "      <td>262764</td>\n",
       "      <td>92.0</td>\n",
       "      <td>8.0</td>\n",
       "      <td>191.651982</td>\n",
       "    </tr>\n",
       "    <tr>\n",
       "      <th>3716</th>\n",
       "      <td>8578490</td>\n",
       "      <td>100.0</td>\n",
       "      <td>10.0</td>\n",
       "      <td>67.782805</td>\n",
       "    </tr>\n",
       "    <tr>\n",
       "      <th>3717</th>\n",
       "      <td>3383329</td>\n",
       "      <td>96.0</td>\n",
       "      <td>10.0</td>\n",
       "      <td>102.818815</td>\n",
       "    </tr>\n",
       "    <tr>\n",
       "      <th>3718</th>\n",
       "      <td>8101950</td>\n",
       "      <td>80.0</td>\n",
       "      <td>8.0</td>\n",
       "      <td>359.000000</td>\n",
       "    </tr>\n",
       "    <tr>\n",
       "      <th>3719</th>\n",
       "      <td>8902327</td>\n",
       "      <td>100.0</td>\n",
       "      <td>10.0</td>\n",
       "      <td>100.201465</td>\n",
       "    </tr>\n",
       "  </tbody>\n",
       "</table>\n",
       "<p>3092 rows × 4 columns</p>\n",
       "</div>"
      ],
      "text/plain": [
       "           id  review_scores_rating  review_scores_value        price\n",
       "0      241032                  95.0                 10.0    85.000000\n",
       "1      953595                  96.0                 10.0   170.931271\n",
       "2     3308979                  97.0                 10.0  1301.818182\n",
       "4      278830                  92.0                  9.0   462.739726\n",
       "5     5956968                  95.0                 10.0   125.629139\n",
       "...       ...                   ...                  ...          ...\n",
       "3715   262764                  92.0                  8.0   191.651982\n",
       "3716  8578490                 100.0                 10.0    67.782805\n",
       "3717  3383329                  96.0                 10.0   102.818815\n",
       "3718  8101950                  80.0                  8.0   359.000000\n",
       "3719  8902327                 100.0                 10.0   100.201465\n",
       "\n",
       "[3092 rows x 4 columns]"
      ]
     },
     "execution_count": 26,
     "metadata": {},
     "output_type": "execute_result"
    }
   ],
   "source": [
    "df_merge = merge_with_group(df_list[[\"id\", \"review_scores_rating\", \"review_scores_value\"]], 'id', df_merge_price)\n",
    "df_merge = df_merge.dropna()\n",
    "df_merge"
   ]
  },
  {
   "cell_type": "markdown",
   "id": "c745d1cc",
   "metadata": {},
   "source": [
    "Now we have the aggregated data we can analyze our question"
   ]
  },
  {
   "cell_type": "code",
   "execution_count": 27,
   "id": "99038ee1",
   "metadata": {},
   "outputs": [
    {
     "data": {
      "image/png": "[encoded data removed]",
      "text/plain": [
       "<Figure size 1400x800 with 2 Axes>"
      ]
     },
     "metadata": {},
     "output_type": "display_data"
    }
   ],
   "source": [
    "#%%pycodestyle\n",
    "plt.figure(figsize=(14, 8))\n",
    "sns.set_theme(style=\"white\")\n",
    "corr = df_merge.drop([\"id\"], axis=1).corr()\n",
    "heatmap = sns.heatmap(corr, annot=True, cmap=\"Blues\", fmt='.1g')\n"
   ]
  },
  {
   "cell_type": "markdown",
   "id": "a7bb30d8",
   "metadata": {},
   "source": [
    "That was unexpected. It looks like the price and rating are nearly uncorrelated. That \"review_score_value\" is antiproportional (negative) to price is explainable, because the customer rate the value they get for the price higher, if the price is lower."
   ]
  },
  {
   "cell_type": "markdown",
   "id": "f110ae25",
   "metadata": {},
   "source": [
    "\n"
   ]
  },
  {
   "cell_type": "markdown",
   "id": "7d0a35e1",
   "metadata": {},
   "source": [
    "# Result\n",
    "\n",
    "The answer to the question is, that there is no significant correlation between high prices and customer satisfaction"
   ]
  }
 ],
 "metadata": {
  "kernelspec": {
   "display_name": "Python 3 (ipykernel)",
   "language": "python",
   "name": "python3"
  },
  "language_info": {
   "codemirror_mode": {
    "name": "ipython",
    "version": 3
   },
   "file_extension": ".py",
   "mimetype": "text/x-python",
   "name": "python",
   "nbconvert_exporter": "python",
   "pygments_lexer": "ipython3",
   "version": "3.10.8"
  }
 },
 "nbformat": 4,
 "nbformat_minor": 5
}
