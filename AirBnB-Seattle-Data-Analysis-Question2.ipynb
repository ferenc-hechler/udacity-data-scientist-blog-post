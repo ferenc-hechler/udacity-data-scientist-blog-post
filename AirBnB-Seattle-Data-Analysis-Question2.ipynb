{
 "cells": [
  {
   "cell_type": "markdown",
   "id": "2d3aa613",
   "metadata": {},
   "source": [
    "# AirBnB Seattle Data Analysis (continued)\n",
    "For the Udacity Data Scientist Blog Post an analysis of dataset has to be done.\n",
    "This notebook is used to analyze the data from AirBnB Seattle provided in Kaggle:\n",
    "\n",
    "* https://www.kaggle.com/datasets/airbnb/seattle\n"
   ]
  },
  {
   "cell_type": "code",
   "execution_count": 2,
   "id": "a52a1f17",
   "metadata": {},
   "outputs": [],
   "source": [
    "import numpy as np\n",
    "import pandas as pd\n",
    "import matplotlib.pyplot as plt\n",
    "from sklearn.linear_model import LinearRegression\n",
    "from sklearn.model_selection import train_test_split\n",
    "from sklearn.metrics import r2_score, mean_squared_error\n",
    "import seaborn as sns\n",
    "%matplotlib inline\n",
    "\n",
    "df_cal = pd.read_csv('./data/calendar.csv')\n",
    "df_list = pd.read_csv('./data/listings.csv')\n",
    "df_rev = pd.read_csv('./data/reviews.csv')"
   ]
  },
  {
   "cell_type": "markdown",
   "id": "7adfe04b",
   "metadata": {},
   "source": [
    "# Question 2 - Is the number of reviews related to the customer satisfaction?\n",
    "\n",
    "From question 1 we now that the customer satisfaction can be measured using `df_list[\"review_score_rating\"]`\n",
    "\n",
    "There is a field reviews_per_month in the \"listings\" dataset. We want to cross check, if this matches the actual reviews, which we get from the \"reviews\" dataset."
   ]
  },
  {
   "cell_type": "code",
   "execution_count": 22,
   "id": "091d1c18",
   "metadata": {},
   "outputs": [
    {
     "data": {
      "text/plain": [
       "3191"
      ]
     },
     "execution_count": 22,
     "metadata": {},
     "output_type": "execute_result"
    }
   ],
   "source": [
    "df_list[\"reviews_per_month\"].count()"
   ]
  },
  {
   "cell_type": "code",
   "execution_count": 24,
   "id": "32f8e97c",
   "metadata": {},
   "outputs": [
    {
     "data": {
      "text/plain": [
       "count    3191.000000\n",
       "mean        2.078919\n",
       "std         1.822348\n",
       "min         0.020000\n",
       "25%         0.695000\n",
       "50%         1.540000\n",
       "75%         3.000000\n",
       "max        12.150000\n",
       "Name: reviews_per_month, dtype: float64"
      ]
     },
     "execution_count": 24,
     "metadata": {},
     "output_type": "execute_result"
    },
    {
     "data": {
      "image/png": "[encoded data removed]",
      "text/plain": [
       "<Figure size 640x480 with 1 Axes>"
      ]
     },
     "metadata": {},
     "output_type": "display_data"
    }
   ],
   "source": [
    "df_list[\"reviews_per_month\"].hist(bins=50)\n",
    "df_list[\"reviews_per_month\"].describe()"
   ]
  },
  {
   "cell_type": "code",
   "execution_count": 32,
   "id": "b23b1b64",
   "metadata": {},
   "outputs": [
    {
     "data": {
      "text/html": [
       "<div>\n",
       "<style scoped>\n",
       "    .dataframe tbody tr th:only-of-type {\n",
       "        vertical-align: middle;\n",
       "    }\n",
       "\n",
       "    .dataframe tbody tr th {\n",
       "        vertical-align: top;\n",
       "    }\n",
       "\n",
       "    .dataframe thead th {\n",
       "        text-align: right;\n",
       "    }\n",
       "</style>\n",
       "<table border=\"1\" class=\"dataframe\">\n",
       "  <thead>\n",
       "    <tr style=\"text-align: right;\">\n",
       "      <th></th>\n",
       "      <th>count_reviews</th>\n",
       "    </tr>\n",
       "    <tr>\n",
       "      <th>listing_id</th>\n",
       "      <th></th>\n",
       "    </tr>\n",
       "  </thead>\n",
       "  <tbody>\n",
       "    <tr>\n",
       "      <th>4291</th>\n",
       "      <td>35</td>\n",
       "    </tr>\n",
       "    <tr>\n",
       "      <th>5682</th>\n",
       "      <td>297</td>\n",
       "    </tr>\n",
       "    <tr>\n",
       "      <th>6606</th>\n",
       "      <td>52</td>\n",
       "    </tr>\n",
       "    <tr>\n",
       "      <th>7369</th>\n",
       "      <td>40</td>\n",
       "    </tr>\n",
       "    <tr>\n",
       "      <th>9419</th>\n",
       "      <td>79</td>\n",
       "    </tr>\n",
       "    <tr>\n",
       "      <th>...</th>\n",
       "      <td>...</td>\n",
       "    </tr>\n",
       "    <tr>\n",
       "      <th>9995551</th>\n",
       "      <td>1</td>\n",
       "    </tr>\n",
       "    <tr>\n",
       "      <th>10012724</th>\n",
       "      <td>2</td>\n",
       "    </tr>\n",
       "    <tr>\n",
       "      <th>10020221</th>\n",
       "      <td>1</td>\n",
       "    </tr>\n",
       "    <tr>\n",
       "      <th>10118341</th>\n",
       "      <td>1</td>\n",
       "    </tr>\n",
       "    <tr>\n",
       "      <th>10248139</th>\n",
       "      <td>1</td>\n",
       "    </tr>\n",
       "  </tbody>\n",
       "</table>\n",
       "<p>3191 rows × 1 columns</p>\n",
       "</div>"
      ],
      "text/plain": [
       "            count_reviews\n",
       "listing_id               \n",
       "4291                   35\n",
       "5682                  297\n",
       "6606                   52\n",
       "7369                   40\n",
       "9419                   79\n",
       "...                   ...\n",
       "9995551                 1\n",
       "10012724                2\n",
       "10020221                1\n",
       "10118341                1\n",
       "10248139                1\n",
       "\n",
       "[3191 rows x 1 columns]"
      ]
     },
     "execution_count": 32,
     "metadata": {},
     "output_type": "execute_result"
    }
   ],
   "source": [
    "reviews_per_listing = df_rev[[\"listing_id\", \"id\"]].groupby(\"listing_id\").count()\n",
    "reviews_per_listing.rename(columns = {\"id\":\"count_reviews\"}, inplace=True)\n",
    "reviews_per_listing"
   ]
  },
  {
   "cell_type": "markdown",
   "id": "e5b1e6d3",
   "metadata": {},
   "source": [
    "lets take a look at the distribution"
   ]
  },
  {
   "cell_type": "code",
   "execution_count": 26,
   "id": "07c3d1d6",
   "metadata": {},
   "outputs": [
    {
     "data": {
      "text/html": [
       "<div>\n",
       "<style scoped>\n",
       "    .dataframe tbody tr th:only-of-type {\n",
       "        vertical-align: middle;\n",
       "    }\n",
       "\n",
       "    .dataframe tbody tr th {\n",
       "        vertical-align: top;\n",
       "    }\n",
       "\n",
       "    .dataframe thead th {\n",
       "        text-align: right;\n",
       "    }\n",
       "</style>\n",
       "<table border=\"1\" class=\"dataframe\">\n",
       "  <thead>\n",
       "    <tr style=\"text-align: right;\">\n",
       "      <th></th>\n",
       "      <th>count_reviews</th>\n",
       "    </tr>\n",
       "  </thead>\n",
       "  <tbody>\n",
       "    <tr>\n",
       "      <th>count</th>\n",
       "      <td>3191.000000</td>\n",
       "    </tr>\n",
       "    <tr>\n",
       "      <th>mean</th>\n",
       "      <td>26.590097</td>\n",
       "    </tr>\n",
       "    <tr>\n",
       "      <th>std</th>\n",
       "      <td>39.840788</td>\n",
       "    </tr>\n",
       "    <tr>\n",
       "      <th>min</th>\n",
       "      <td>1.000000</td>\n",
       "    </tr>\n",
       "    <tr>\n",
       "      <th>25%</th>\n",
       "      <td>4.000000</td>\n",
       "    </tr>\n",
       "    <tr>\n",
       "      <th>50%</th>\n",
       "      <td>13.000000</td>\n",
       "    </tr>\n",
       "    <tr>\n",
       "      <th>75%</th>\n",
       "      <td>31.000000</td>\n",
       "    </tr>\n",
       "    <tr>\n",
       "      <th>max</th>\n",
       "      <td>474.000000</td>\n",
       "    </tr>\n",
       "  </tbody>\n",
       "</table>\n",
       "</div>"
      ],
      "text/plain": [
       "       count_reviews\n",
       "count    3191.000000\n",
       "mean       26.590097\n",
       "std        39.840788\n",
       "min         1.000000\n",
       "25%         4.000000\n",
       "50%        13.000000\n",
       "75%        31.000000\n",
       "max       474.000000"
      ]
     },
     "execution_count": 26,
     "metadata": {},
     "output_type": "execute_result"
    },
    {
     "data": {
      "image/png": "[encoded data removed]",
      "text/plain": [
       "<Figure size 640x480 with 1 Axes>"
      ]
     },
     "metadata": {},
     "output_type": "display_data"
    }
   ],
   "source": [
    "(reviews_per_listing).hist(bins=50)\n",
    "reviews_per_listing.describe()"
   ]
  },
  {
   "cell_type": "markdown",
   "id": "5ef7709c",
   "metadata": {},
   "source": [
    "This means, that 50% of the listings have 13 or less reviews, but there is a max listing of 474 reviews"
   ]
  },
  {
   "cell_type": "markdown",
   "id": "2d8d33dc",
   "metadata": {},
   "source": [
    "Now, where we have both mesures for the review, let´s check the correlation to the rating.\n",
    "Therefore, we merge the values together."
   ]
  },
  {
   "cell_type": "code",
   "execution_count": 33,
   "id": "6bd5f6c1",
   "metadata": {},
   "outputs": [
    {
     "data": {
      "text/html": [
       "<div>\n",
       "<style scoped>\n",
       "    .dataframe tbody tr th:only-of-type {\n",
       "        vertical-align: middle;\n",
       "    }\n",
       "\n",
       "    .dataframe tbody tr th {\n",
       "        vertical-align: top;\n",
       "    }\n",
       "\n",
       "    .dataframe thead th {\n",
       "        text-align: right;\n",
       "    }\n",
       "</style>\n",
       "<table border=\"1\" class=\"dataframe\">\n",
       "  <thead>\n",
       "    <tr style=\"text-align: right;\">\n",
       "      <th></th>\n",
       "      <th>id</th>\n",
       "      <th>review_scores_rating</th>\n",
       "      <th>reviews_per_month</th>\n",
       "      <th>count_reviews</th>\n",
       "    </tr>\n",
       "  </thead>\n",
       "  <tbody>\n",
       "    <tr>\n",
       "      <th>0</th>\n",
       "      <td>241032</td>\n",
       "      <td>95.0</td>\n",
       "      <td>4.07</td>\n",
       "      <td>207</td>\n",
       "    </tr>\n",
       "    <tr>\n",
       "      <th>1</th>\n",
       "      <td>953595</td>\n",
       "      <td>96.0</td>\n",
       "      <td>1.48</td>\n",
       "      <td>43</td>\n",
       "    </tr>\n",
       "    <tr>\n",
       "      <th>2</th>\n",
       "      <td>3308979</td>\n",
       "      <td>97.0</td>\n",
       "      <td>1.15</td>\n",
       "      <td>20</td>\n",
       "    </tr>\n",
       "    <tr>\n",
       "      <th>3</th>\n",
       "      <td>278830</td>\n",
       "      <td>92.0</td>\n",
       "      <td>0.89</td>\n",
       "      <td>38</td>\n",
       "    </tr>\n",
       "    <tr>\n",
       "      <th>4</th>\n",
       "      <td>5956968</td>\n",
       "      <td>95.0</td>\n",
       "      <td>2.45</td>\n",
       "      <td>17</td>\n",
       "    </tr>\n",
       "    <tr>\n",
       "      <th>...</th>\n",
       "      <td>...</td>\n",
       "      <td>...</td>\n",
       "      <td>...</td>\n",
       "      <td>...</td>\n",
       "    </tr>\n",
       "    <tr>\n",
       "      <th>3186</th>\n",
       "      <td>262764</td>\n",
       "      <td>92.0</td>\n",
       "      <td>1.56</td>\n",
       "      <td>5</td>\n",
       "    </tr>\n",
       "    <tr>\n",
       "      <th>3187</th>\n",
       "      <td>8578490</td>\n",
       "      <td>100.0</td>\n",
       "      <td>0.63</td>\n",
       "      <td>2</td>\n",
       "    </tr>\n",
       "    <tr>\n",
       "      <th>3188</th>\n",
       "      <td>3383329</td>\n",
       "      <td>96.0</td>\n",
       "      <td>4.01</td>\n",
       "      <td>73</td>\n",
       "    </tr>\n",
       "    <tr>\n",
       "      <th>3189</th>\n",
       "      <td>8101950</td>\n",
       "      <td>80.0</td>\n",
       "      <td>0.30</td>\n",
       "      <td>1</td>\n",
       "    </tr>\n",
       "    <tr>\n",
       "      <th>3190</th>\n",
       "      <td>8902327</td>\n",
       "      <td>100.0</td>\n",
       "      <td>2.00</td>\n",
       "      <td>2</td>\n",
       "    </tr>\n",
       "  </tbody>\n",
       "</table>\n",
       "<p>3171 rows × 4 columns</p>\n",
       "</div>"
      ],
      "text/plain": [
       "           id  review_scores_rating  reviews_per_month  count_reviews\n",
       "0      241032                  95.0               4.07            207\n",
       "1      953595                  96.0               1.48             43\n",
       "2     3308979                  97.0               1.15             20\n",
       "3      278830                  92.0               0.89             38\n",
       "4     5956968                  95.0               2.45             17\n",
       "...       ...                   ...                ...            ...\n",
       "3186   262764                  92.0               1.56              5\n",
       "3187  8578490                 100.0               0.63              2\n",
       "3188  3383329                  96.0               4.01             73\n",
       "3189  8101950                  80.0               0.30              1\n",
       "3190  8902327                 100.0               2.00              2\n",
       "\n",
       "[3171 rows x 4 columns]"
      ]
     },
     "execution_count": 33,
     "metadata": {},
     "output_type": "execute_result"
    }
   ],
   "source": [
    "df_merge = df_list[[\"id\",\"review_scores_rating\", \"reviews_per_month\"]].copy()\n",
    "df_merge = df_merge.merge(reviews_per_listing.reset_index(names=[\"id\"]), left_on='id', right_on='id')\n",
    "df_merge = df_merge.dropna()\n",
    "df_merge"
   ]
  },
  {
   "cell_type": "code",
   "execution_count": 34,
   "id": "e4703e64",
   "metadata": {},
   "outputs": [
    {
     "data": {
      "image/png": "[encoded data removed]",
      "text/plain": [
       "<Figure size 1400x800 with 2 Axes>"
      ]
     },
     "metadata": {},
     "output_type": "display_data"
    }
   ],
   "source": [
    "plt.figure(figsize=(14,8))\n",
    "sns.set_theme(style=\"white\")\n",
    "corr = df_merge.drop([\"id\"], axis=1).corr()\n",
    "heatmap = sns.heatmap(corr, annot=True, cmap=\"Blues\", fmt='.1g')"
   ]
  },
  {
   "cell_type": "markdown",
   "id": "b1ec6584",
   "metadata": {},
   "source": [
    "Huh, this was also unexpected. \n",
    "reviews_per_month are not as strong correlated to count_reviews, as I thought. I expected those values to be nearly linear equal.\n",
    "This might be another analysis ouside of question 2.\n",
    "\n",
    "But for Question 2 it does not matter, because for both correlations we have an"
   ]
  },
  {
   "cell_type": "markdown",
   "id": "d5c2e701",
   "metadata": {},
   "source": [
    "# Result\n",
    "\n",
    "The number of reviews does not change significant with the customer satisfaction. So, bad ratings have the same amount of reviews as good ratings."
   ]
  },
  {
   "cell_type": "code",
   "execution_count": null,
   "id": "1981c682",
   "metadata": {},
   "outputs": [],
   "source": []
  }
 ],
 "metadata": {
  "kernelspec": {
   "display_name": "Python 3 (ipykernel)",
   "language": "python",
   "name": "python3"
  },
  "language_info": {
   "codemirror_mode": {
    "name": "ipython",
    "version": 3
   },
   "file_extension": ".py",
   "mimetype": "text/x-python",
   "name": "python",
   "nbconvert_exporter": "python",
   "pygments_lexer": "ipython3",
   "version": "3.10.8"
  }
 },
 "nbformat": 4,
 "nbformat_minor": 5
}
